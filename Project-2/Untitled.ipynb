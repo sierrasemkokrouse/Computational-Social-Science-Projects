{
 "cells": [
  {
   "cell_type": "markdown",
   "id": "dbef470a-1d53-4b52-9f19-8c631e5993f3",
   "metadata": {},
   "source": [
    "## Project 2 - SOCIOL 273L / CSS\n",
    "### Sierra Semko Krouse\n",
    "### October 28, 2024\n",
    "\n",
    "# Exploratory Data Analysis"
   ]
  },
  {
   "cell_type": "code",
   "execution_count": 1,
   "id": "8643a7eb-9465-42ad-8335-a1bc3790c997",
   "metadata": {},
   "outputs": [],
   "source": [
    "# load libraries \n",
    "import numpy as np\n",
    "import datetime as dt\n",
    "import pandas as pd\n",
    "import matplotlib.pyplot as plt\n",
    "import seaborn as sns\n",
    "from sklearn.model_selection import train_test_split\n",
    "from sklearn.linear_model import Ridge, Lasso, LinearRegression\n",
    "from sklearn.model_selection import KFold\n",
    "from sklearn.model_selection import GridSearchCV\n",
    "\n",
    "# use magic function\n",
    "%matplotlib inline\n",
    "\n",
    "# set style\n",
    "sns.set_style(\"darkgrid\")"
   ]
  },
  {
   "cell_type": "code",
   "execution_count": 10,
   "id": "a4c08fd0-b658-4d9e-bcc6-ff60de4d983e",
   "metadata": {},
   "outputs": [
    {
     "data": {
      "text/plain": [
       "(3220, 95)"
      ]
     },
     "execution_count": 10,
     "metadata": {},
     "output_type": "execute_result"
    }
   ],
   "source": [
    "# load data \n",
    "dpp = pd.read_csv('../../Computational-Social-Science-Training-Program/Projects/Project 2/Diabetes with Population Info by County 2017.csv')\n",
    "\n",
    "# take a quick look at the first observations \n",
    "dpp.head()"
   ]
  },
  {
   "cell_type": "code",
   "execution_count": null,
   "id": "9d596c71-568a-43d1-95c0-f615adb63835",
   "metadata": {},
   "outputs": [],
   "source": [
    "# look at the last observations\n",
    "dpp.tail()"
   ]
  },
  {
   "cell_type": "code",
   "execution_count": 11,
   "id": "0fafbd66-49a8-468e-86af-2d0f3c2253e4",
   "metadata": {},
   "outputs": [
    {
     "data": {
      "text/plain": [
       "(3220, 95)"
      ]
     },
     "execution_count": 11,
     "metadata": {},
     "output_type": "execute_result"
    }
   ],
   "source": [
    "# and look at the number of observations \n",
    "dpp.shape"
   ]
  },
  {
   "cell_type": "code",
   "execution_count": null,
   "id": "a8574452-31a4-41fb-937d-b96a63e783ce",
   "metadata": {},
   "outputs": [],
   "source": []
  }
 ],
 "metadata": {
  "kernelspec": {
   "display_name": "Python 3 (ipykernel)",
   "language": "python",
   "name": "python3"
  },
  "language_info": {
   "codemirror_mode": {
    "name": "ipython",
    "version": 3
   },
   "file_extension": ".py",
   "mimetype": "text/x-python",
   "name": "python",
   "nbconvert_exporter": "python",
   "pygments_lexer": "ipython3",
   "version": "3.12.4"
  }
 },
 "nbformat": 4,
 "nbformat_minor": 5
}
